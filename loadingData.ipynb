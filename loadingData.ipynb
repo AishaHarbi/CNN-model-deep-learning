{
 "cells": [
  {
   "cell_type": "code",
   "execution_count": 28,
   "metadata": {},
   "outputs": [],
   "source": [
    "import numpy as np\n",
    "import matplotlib.pyplot as plt\n",
    "import os\n",
    "import cv2"
   ]
  },
  {
   "cell_type": "code",
   "execution_count": 29,
   "metadata": {},
   "outputs": [],
   "source": [
    "#dir of training_data\n",
    "DataDir = \"/Users/aisha/virtualenv/0Dataset\"\n",
    "#dir of testing data\n",
    "dirx = \"/Users/aisha/virtualenv\"\n",
    "\n",
    "Categories = [\"CT_COVID\",\"CT_NonCOVID\"]\n",
    "cat = [\"testing_covid_19\",\"testing_noncovid_19\"]\n"
   ]
  },
  {
   "cell_type": "code",
   "execution_count": 30,
   "metadata": {},
   "outputs": [],
   "source": [
    "#for training data\n",
    "for category in Categories:\n",
    "    #for each covid noncovid join main dir with category name(folder's name)\n",
    "    pathx = os.path.join(DataDir,category)\n",
    "    #for each img in that folder\n",
    "    for img in os.listdir(pathx):\n",
    "        #save each img into an array grayscaled\n",
    "        img_arr = cv2.imread(os.path.join(pathx,img), cv2.IMREAD_GRAYSCALE)\n"
   ]
  },
  {
   "cell_type": "code",
   "execution_count": 31,
   "metadata": {},
   "outputs": [],
   "source": [
    "for c in cat:\n",
    "    #for each category join path with testing data dir\n",
    "    teem = os.path.join(dirx,c)\n",
    "    for img in os.listdir(teem):\n",
    "        #for each testing data save in an arr gratscaled\n",
    "        img_arr2 = cv2.imread(os.path.join(teem,img), cv2.IMREAD_GRAYSCALE)\n",
    "\n"
   ]
  },
  {
   "cell_type": "code",
   "execution_count": 32,
   "metadata": {},
   "outputs": [],
   "source": [
    "img_size = 100\n",
    "#resize images training data\n",
    "new_arr = cv2.resize(img_arr,(img_size,img_size))\n",
    "#resize imgs of testing\n",
    "#new_arr2 = cv2.resize(img_arr2,(img_size,img_size))\n",
    "#plt.imshow(new_arr,cmap='gray')\n",
    "#plt.show()\n",
    "import subprocess\n"
   ]
  },
  {
   "cell_type": "code",
   "execution_count": 33,
   "metadata": {},
   "outputs": [],
   "source": [
    "training_data = []\n",
    "\n",
    "def create_training_data():\n",
    "    for category in Categories:\n",
    "\n",
    "        path = os.path.join(DataDir,category) #path noncovid or covid\n",
    "        classNum = Categories.index(category)\n",
    "        for img in os.listdir(path):\n",
    "            try:\n",
    "                img_arr = cv2.imread(os.path.join(path,img), cv2.IMREAD_GRAYSCALE)\n",
    "                img_size = 100\n",
    "                new_arr = cv2.resize(img_arr,(img_size,img_size))\n",
    "                training_data.append([new_arr,classNum])\n",
    "\n",
    "            except Exception as e:\n",
    "                pass\n",
    "\n",
    "create_training_data()"
   ]
  },
  {
   "cell_type": "code",
   "execution_count": 34,
   "metadata": {},
   "outputs": [
    {
     "name": "stdout",
     "output_type": "stream",
     "text": [
      "676\n",
      "28\n"
     ]
    }
   ],
   "source": [
    "testing_data = []\n",
    "\n",
    "def create_testing_data():\n",
    "    for c in cat:\n",
    "        #join paths of testing dir + category\n",
    "        pathT = os.path.join(dirx,c) #path noncovid or covid\n",
    "        #class number is the category index\n",
    "        classNumx = cat.index(c)\n",
    "        for m in os.listdir(pathT):\n",
    "            try:\n",
    "                img_arrx = cv2.imread(os.path.join(pathT,m), cv2.IMREAD_GRAYSCALE)\n",
    "                img_size = 100\n",
    "                new_arrx = cv2.resize(img_arrx,(img_size,img_size))\n",
    "                testing_data.append([new_arrx,classNumx])\n",
    "\n",
    "            except Exception as e:\n",
    "                pass\n",
    "\n",
    "create_testing_data()\n",
    "print(len(training_data))\n",
    "print(len(testing_data))"
   ]
  },
  {
   "cell_type": "code",
   "execution_count": 35,
   "metadata": {},
   "outputs": [],
   "source": [
    "import random\n",
    "\n",
    "random.shuffle(training_data)\n",
    "random.shuffle(testing_data)\n",
    "\n",
    "x = []\n",
    "y = []\n",
    "tesingx = []\n",
    "testingy = []"
   ]
  },
  {
   "cell_type": "code",
   "execution_count": 36,
   "metadata": {},
   "outputs": [],
   "source": [
    "for feature, label in training_data:\n",
    "    x.append(feature)\n",
    "    y.append(label)\n",
    "x = np.array(x).reshape(-1,img_size,img_size)\n",
    "\n",
    "import pickle\n",
    "pickle_out = open(\"x.pickle\",\"wb\")\n",
    "pickle.dump(x, pickle_out)\n",
    "pickle_out.close()\n",
    "\n",
    "pickle_out = open(\"y.pickle\",\"wb\")\n",
    "pickle.dump(y, pickle_out)\n",
    "pickle_out.close()\n",
    "\n",
    "pickle_in = open(\"x.pickle\",\"rb\")\n",
    "x = pickle.load(pickle_in)\n",
    "\n",
    "\n",
    "for feature, label in testing_data:\n",
    "    tesingx.append(feature)\n",
    "    testingy.append(label)\n",
    "\n",
    "tesingx = np.array(x).reshape(-1,img_size,img_size)\n",
    "\n",
    "import pickle\n",
    "pickle_out2 = open(\"testingx.pickle\",\"wb\")\n",
    "pickle.dump(tesingx, pickle_out2)\n",
    "pickle_out2.close()\n",
    "\n",
    "pickle_out2 = open(\"testingy.pickle\",\"wb\")\n",
    "pickle.dump(testingy, pickle_out2)\n",
    "pickle_out2.close()\n",
    "\n",
    "pickle_in2 = open(\"testingx.pickle\",\"rb\")\n",
    "testingx = pickle.load(pickle_in2)"
   ]
  },
  {
   "cell_type": "code",
   "execution_count": null,
   "metadata": {},
   "outputs": [],
   "source": []
  }
 ],
 "metadata": {
  "kernelspec": {
   "display_name": "Python [conda env:root] *",
   "language": "python",
   "name": "conda-root-py"
  },
  "language_info": {
   "codemirror_mode": {
    "name": "ipython",
    "version": 3
   },
   "file_extension": ".py",
   "mimetype": "text/x-python",
   "name": "python",
   "nbconvert_exporter": "python",
   "pygments_lexer": "ipython3",
   "version": "3.7.6"
  }
 },
 "nbformat": 4,
 "nbformat_minor": 4
}
